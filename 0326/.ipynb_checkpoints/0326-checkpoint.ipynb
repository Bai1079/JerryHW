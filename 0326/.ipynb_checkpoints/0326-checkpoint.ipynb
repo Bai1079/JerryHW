{
 "cells": [
  {
   "cell_type": "markdown",
   "metadata": {},
   "source": [
    "1.Lambda & Map"
   ]
  },
  {
   "cell_type": "code",
   "execution_count": 5,
   "metadata": {},
   "outputs": [
    {
     "name": "stdout",
     "output_type": "stream",
     "text": [
      "請輸入一個數字：6\n",
      "[106]\n"
     ]
    }
   ],
   "source": [
    "a=input('請輸入一個數字：')\n",
    "num=[int(a)]\n",
    "print(list(map(lambda X:X+100,num)))"
   ]
  },
  {
   "cell_type": "markdown",
   "metadata": {},
   "source": [
    "2.裝飾器(Decorator)"
   ]
  },
  {
   "cell_type": "code",
   "execution_count": 8,
   "metadata": {},
   "outputs": [
    {
     "name": "stdout",
     "output_type": "stream",
     "text": [
      "multiply: 20\n"
     ]
    }
   ],
   "source": [
    "def document_it(func):\n",
    "    def new_function(a,b):\n",
    "        m=a*b\n",
    "        print('multiply:',m)\n",
    "    return new_function\n",
    "\n",
    "@document_it\n",
    "def add_ints(a,b):\n",
    "    return a + b\n",
    "\n",
    "add_ints(10,2)"
   ]
  },
  {
   "cell_type": "markdown",
   "metadata": {},
   "source": [
    "3.例外處理"
   ]
  },
  {
   "cell_type": "code",
   "execution_count": 4,
   "metadata": {},
   "outputs": [
    {
     "name": "stdout",
     "output_type": "stream",
     "text": [
      "請輸入一個整數：5.5\n",
      "出錯，請重新輸入\n"
     ]
    }
   ],
   "source": [
    "a=input('請輸入一個整數：')\n",
    "try:\n",
    "    print(int(a))\n",
    "except:\n",
    "    print('出錯，請重新輸入')"
   ]
  },
  {
   "cell_type": "markdown",
   "metadata": {},
   "source": [
    "4.計算機程式"
   ]
  },
  {
   "cell_type": "code",
   "execution_count": 3,
   "metadata": {},
   "outputs": [
    {
     "name": "stdout",
     "output_type": "stream",
     "text": [
      "請輸入第一個數字：5\n",
      "請輸入第二個數字：6\n",
      "請輸入運算值：*\n",
      "30\n"
     ]
    }
   ],
   "source": [
    "from source import calculator\n",
    "\n",
    "input1=int(input('請輸入第一個數字：'))\n",
    "input2=int(input('請輸入第二個數字：'))\n",
    "f=input('請輸入運算值：')\n",
    "  \n",
    "print(calculator.answer(input1,input2,f))"
   ]
  },
  {
   "cell_type": "code",
   "execution_count": null,
   "metadata": {},
   "outputs": [],
   "source": []
  }
 ],
 "metadata": {
  "kernelspec": {
   "display_name": "Python 3",
   "language": "python",
   "name": "python3"
  },
  "language_info": {
   "codemirror_mode": {
    "name": "ipython",
    "version": 3
   },
   "file_extension": ".py",
   "mimetype": "text/x-python",
   "name": "python",
   "nbconvert_exporter": "python",
   "pygments_lexer": "ipython3",
   "version": "3.6.4"
  }
 },
 "nbformat": 4,
 "nbformat_minor": 2
}
